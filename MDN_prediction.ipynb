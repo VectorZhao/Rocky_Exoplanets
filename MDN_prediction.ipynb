{
 "cells": [
  {
   "cell_type": "code",
   "execution_count": 1,
   "metadata": {},
   "outputs": [],
   "source": [
    "import matplotlib.pyplot as plt\n",
    "import matplotlib.ticker as tck\n",
    "\n",
    "import pandas as pd\n",
    "import numpy as np\n",
    "import math\n",
    "\n",
    "from tensorflow.keras.models import load_model\n",
    "\n",
    "import mdn\n",
    "import joblib"
   ]
  },
  {
   "cell_type": "code",
   "execution_count": 2,
   "metadata": {},
   "outputs": [
    {
     "name": "stdout",
     "output_type": "stream",
     "text": [
      "WARNING:tensorflow:From C:\\Users\\manli\\anaconda3\\lib\\site-packages\\tensorflow_core\\python\\ops\\resource_variable_ops.py:1630: calling BaseResourceVariable.__init__ (from tensorflow.python.ops.resource_variable_ops) with constraint is deprecated and will be removed in a future version.\n",
      "Instructions for updating:\n",
      "If using Keras pass *_constraint arguments to layers.\n",
      "WARNING:tensorflow:Entity <bound method MDN.call of <mdn.MDN object at 0x000001CF6DA86C08>> could not be transformed and will be executed as-is. Please report this to the AutoGraph team. When filing the bug, set the verbosity to 10 (on Linux, `export AUTOGRAPH_VERBOSITY=10`) and attach the full output. Cause: Bad argument number for Name: 3, expecting 4\n",
      "WARNING: Entity <bound method MDN.call of <mdn.MDN object at 0x000001CF6DA86C08>> could not be transformed and will be executed as-is. Please report this to the AutoGraph team. When filing the bug, set the verbosity to 10 (on Linux, `export AUTOGRAPH_VERBOSITY=10`) and attach the full output. Cause: Bad argument number for Name: 3, expecting 4\n"
     ]
    }
   ],
   "source": [
    "input_parameters = [\n",
    "    'Mass', \n",
    "    'Radius',\n",
    "    'H2O_mass_frac', \n",
    "]\n",
    "\n",
    "output_parameters = [\n",
    "    'H2O_radial_frac',\n",
    "    'Core_radial_frac',\n",
    "    'Core_mass_frac',\n",
    "    'P_CMB', \n",
    "    'T_CMB',\n",
    "]\n",
    "# load trained model and scaler\n",
    "OUTPUT_DIMS = 5\n",
    "N_MIXES = 20\n",
    "model = load_model(\n",
    "    \"RockyExop_MDN.h5\", \n",
    "    custom_objects={\"MDN\": mdn.MDN(OUTPUT_DIMS, N_MIXES), \"mdn_loss_func\": mdn.get_mixture_loss_func(OUTPUT_DIMS,N_MIXES)},\n",
    "    compile=False\n",
    ")\n",
    "input_scaler = joblib.load(\"MDN_INPUT_scaler.save\")\n",
    "output_scaler = joblib.load(\"MDN_OUTPUT_scaler.save\")"
   ]
  },
  {
   "cell_type": "markdown",
   "metadata": {},
   "source": [
    "## Predict Earth (for example)"
   ]
  },
  {
   "cell_type": "code",
   "execution_count": 3,
   "metadata": {},
   "outputs": [],
   "source": [
    "# EARTH\n",
    "# input mass and radius for predicting must be earth units\n",
    "input_array_earth = np.array(\n",
    "    [\n",
    "        [1], # mass\n",
    "        [1], # radius\n",
    "        [0.001], # water mass fraction\n",
    "    ]\n",
    ")\n",
    "scaled_input = input_scaler.transform(input_array_earth.T)"
   ]
  },
  {
   "cell_type": "code",
   "execution_count": 5,
   "metadata": {},
   "outputs": [
    {
     "name": "stdout",
     "output_type": "stream",
     "text": [
      "[[ 2.01693643e-02  8.71409178e-01  7.70799935e-01  6.97955564e-02\n",
      "   2.18540549e-01  5.88760674e-02  6.96225822e-01  5.92369735e-01\n",
      "   5.21097854e-02  1.51286960e-01 -7.02783093e-03  7.09326327e-01\n",
      "   3.94753039e-01  4.67918515e-02  1.99384809e-01  2.04770118e-02\n",
      "   8.47895145e-01  7.12566316e-01  4.76715863e-02  1.91341907e-01\n",
      "   2.38194764e-02  5.50590396e-01  2.43836462e-01  6.77525923e-02\n",
      "   2.15391517e-01  1.96241494e-02  7.07450151e-01  4.56832886e-01\n",
      "   6.89911172e-02  2.08974004e-01  7.81297162e-02  2.86597371e-01\n",
      "   2.20053196e-01  1.51609331e-02  1.11362010e-01  2.22667325e-02\n",
      "   8.86226654e-01  8.03274214e-01  1.43116668e-01  3.24237376e-01\n",
      "   2.99830586e-02  7.59322047e-01  5.48856556e-01  8.25497508e-02\n",
      "   2.32849553e-01  8.69666319e-03  8.26479435e-01  6.75667763e-01\n",
      "   5.61417937e-02  2.30564594e-01  1.52686238e-02  7.81718731e-01\n",
      "   5.81416547e-01  3.17503363e-02  1.47385895e-01  2.37682983e-02\n",
      "   7.63546109e-01  5.30838788e-01  6.01350665e-02  2.43867278e-01\n",
      "   1.63040739e-02  7.57072806e-01  5.50267756e-01  8.63343701e-02\n",
      "   2.44836643e-01  2.10222416e-02  7.80661643e-01  5.87402463e-01\n",
      "   6.04509562e-02  1.96358055e-01  1.38843395e-02  8.06966960e-01\n",
      "   5.99787235e-01 -8.18682909e-02  7.83591270e-02  8.04234669e-02\n",
      "   8.62476468e-01  7.50954866e-01  7.11589456e-02  1.86363921e-01\n",
      "   2.30174977e-02  8.38809192e-01  6.64417803e-01 -2.00891078e-01\n",
      "  -6.38282299e-02  2.06415020e-02  8.19446504e-01  6.71266139e-01\n",
      "   7.65242353e-02  2.28733122e-01  4.46020365e-02  4.88872588e-01\n",
      "   2.55489409e-01  6.55297339e-02  1.74143165e-01  1.74473096e-02\n",
      "   8.64525497e-01  7.35515833e-01 -2.62290835e-02  1.33193374e-01\n",
      "   7.93278217e-03  2.00276971e-02  4.13168669e-02  8.61495733e-03\n",
      "   2.00000405e-02  1.19114399e-01  1.42915368e-01  1.95649862e-01\n",
      "   6.65858984e-02  9.50951576e-02  4.52828407e-03  2.74400711e-02\n",
      "   3.07164192e-02  1.66488886e-02  1.81142092e-02  6.04850054e-03\n",
      "   6.51186705e-03  1.30338073e-02  1.97751522e-02  3.03896070e-02\n",
      "   1.12701654e-02  1.06377602e-01  1.15899622e-01  1.26561522e-02\n",
      "   2.80909538e-02  7.94237852e-03  4.00004983e-02  6.61386251e-02\n",
      "   7.12555647e-03  1.66039467e-02  1.58624470e-01  2.81896114e-01\n",
      "   2.58860946e-01  1.07120931e-01  1.27075136e-01  1.00474358e-02\n",
      "   1.53686404e-02  3.33923101e-02  2.66082883e-02  3.18421721e-02\n",
      "   1.65065527e-02  1.69476271e-02  3.21657658e-02  8.91667604e-03\n",
      "   1.90249681e-02  7.04830885e-03  7.66968727e-03  1.44873857e-02\n",
      "   3.08111906e-02  3.68832946e-02  4.42886353e-03  1.96632147e-02\n",
      "   3.62372994e-02  7.64799118e-03  1.69963837e-02  6.81644678e-03\n",
      "   1.21025443e-02  2.22344995e-02  2.51660347e-02  2.15079188e-02\n",
      "   6.68358803e-03  1.48038864e-02  2.78980732e-02  9.53245163e-03\n",
      "   1.81244016e-02  5.64348698e-03  1.13009214e-02  2.04179287e-02\n",
      "   9.10812616e-03  1.81670189e-02  7.02708960e-03  7.43287802e-03\n",
      "   1.44845247e-02  2.35315561e-02  2.88795829e-02  5.28758168e-02\n",
      "   6.23164773e-02  1.02195024e-01  3.68129015e-02  4.99643683e-02\n",
      "   8.24427605e-03  7.15494156e-03  1.37992501e-02  2.49026418e-02\n",
      "   3.46947312e-02  6.68221712e-03  1.91271305e-02  3.78448963e-02\n",
      "   7.68339634e-03  1.78617835e-02  7.22017288e-02  1.61607087e-01\n",
      "   1.67613149e-01  3.77798080e-02  5.60630560e-02  6.22522831e-03\n",
      "   5.62518835e-03  1.11412406e-02  2.30894089e-02  3.07009816e-02\n",
      "   5.71098089e-01 -7.14280987e+00 -8.73788452e+00 -5.25267458e+00\n",
      "  -1.46501434e+00 -4.87161636e-01 -6.16405487e+00 -4.40374327e+00\n",
      "  -2.94371319e+00 -7.85728407e+00 -2.07942200e+00 -7.88606548e+00\n",
      "  -1.46960306e+00 -1.30449820e+00 -7.95186949e+00 -5.32309198e+00\n",
      "  -7.43396330e+00  9.34336424e-01 -4.88540173e+00 -7.88270855e+00]]\n",
      "(1, 220)\n"
     ]
    }
   ],
   "source": [
    "pred = model.predict(scaled_input)\n",
    "# pred contains parameters for distributions, not actual points on the graph.\n",
    "print(pred)\n",
    "print(pred.shape)"
   ]
  },
  {
   "cell_type": "code",
   "execution_count": 6,
   "metadata": {},
   "outputs": [
    {
     "name": "stdout",
     "output_type": "stream",
     "text": [
      "0\n",
      "1\n",
      "2\n",
      "3\n",
      "4\n"
     ]
    }
   ],
   "source": [
    "# split up the mixture parameters\n",
    "mus = np.apply_along_axis((lambda a: a[:N_MIXES*OUTPUT_DIMS]), 1, pred)\n",
    "sigs = np.apply_along_axis((lambda a: a[N_MIXES*OUTPUT_DIMS:2*N_MIXES*OUTPUT_DIMS]), 1, pred)\n",
    "pis = np.apply_along_axis((lambda a: mdn.softmax(a[-N_MIXES:])), 1, pred)\n",
    "\n",
    "for m in range(5):\n",
    "    locals()['mus'+str(m)] = []\n",
    "    locals()['sigs'+str(m)] = []\n",
    "    print(m)\n",
    "    for n in range(20):\n",
    "#         print(n)\n",
    "        locals()['mus'+str(m)].append(mus[0][n*5 + m])\n",
    "        locals()['sigs'+str(m)].append(sigs[0][n*5 + m])"
   ]
  },
  {
   "cell_type": "code",
   "execution_count": 7,
   "metadata": {},
   "outputs": [
    {
     "data": {
      "image/png": "[encoded data removed]",
      "text/plain": [
       "<Figure size 576x288 with 1 Axes>"
      ]
     },
     "metadata": {
      "needs_background": "light"
     },
     "output_type": "display_data"
    }
   ],
   "source": [
    "# plot the predited distributions for the scaled parameters of the earth\n",
    "\n",
    "\n",
    "colors = [\n",
    "    \"steelblue\",\n",
    "    \"red\", \n",
    "    \"gold\", \n",
    "    \"#2ecc71\",\n",
    "    \"#03a9f4\"\n",
    "]\n",
    "predict_label = [\n",
    "    \"Water radial fraction\", \n",
    "    \"Core radial fraction\", \n",
    "    \"Core mass fraction\", \n",
    "    \"CMB pressure\", \n",
    "    \"CMB temperature\"\n",
    "]\n",
    "\n",
    "fig, ax = plt.subplots(figsize=(8,4))\n",
    "x = np.arange(0,1,0.001).reshape(-1,1)\n",
    "for i, label in zip(range(2), predict_label[:2]):\n",
    "    mus_ = np.array(locals()['mus'+str(i)])\n",
    "    sigs_ = np.array(locals()['sigs'+str(i)])\n",
    "    factors = 1 / math.sqrt(2*math.pi) / sigs_\n",
    "    exponent = np.exp(-1/2*np.square((x-mus_)/sigs_))\n",
    "    GMM_PDF = np.sum(pis[0]*factors*exponent, axis=1); # Sum multiple Gaussian distributions\n",
    "    plt.plot(x, GMM_PDF, color=colors[i], label=label, lw=2)\n",
    "plt.legend()\n",
    "ax.xaxis.set_minor_locator(tck.AutoMinorLocator())\n",
    "plt.xlim(0,1)\n",
    "plt.ylim(0,60)\n",
    "plt.show()"
   ]
  },
  {
   "cell_type": "code",
   "execution_count": 8,
   "metadata": {},
   "outputs": [
    {
     "data": {
      "image/png": "[encoded data removed]",
      "text/plain": [
       "<Figure size 576x288 with 1 Axes>"
      ]
     },
     "metadata": {
      "needs_background": "light"
     },
     "output_type": "display_data"
    }
   ],
   "source": [
    "fig, ax = plt.subplots(figsize=(8,4))\n",
    "for i, label in zip(range(3), predict_label[2:]):\n",
    "    i += 2\n",
    "    mus_ = np.array(locals()['mus'+str(i)])\n",
    "    sigs_ = np.array(locals()['sigs'+str(i)])\n",
    "    factors = 1 / math.sqrt(2*math.pi) / sigs_\n",
    "    exponent = np.exp(-1/2*np.square((x-mus_)/sigs_))\n",
    "    GMM_PDF = np.sum(pis[0]*factors*exponent, axis=1); # 对多个高斯分布求和\n",
    "    plt.plot(\n",
    "        x, \n",
    "        GMM_PDF, \n",
    "        color=colors[i], \n",
    "        label=label, \n",
    "        lw=2\n",
    "    )\n",
    "plt.legend()\n",
    "ax.xaxis.set_minor_locator(tck.AutoMinorLocator())\n",
    "plt.xlim(0,1)\n",
    "plt.ylim(0,50)\n",
    "plt.show()"
   ]
  },
  {
   "cell_type": "code",
   "execution_count": null,
   "metadata": {},
   "outputs": [],
   "source": []
  }
 ],
 "metadata": {
  "kernelspec": {
   "display_name": "Python 3",
   "language": "python",
   "name": "python3"
  },
  "language_info": {
   "codemirror_mode": {
    "name": "ipython",
    "version": 3
   },
   "file_extension": ".py",
   "mimetype": "text/x-python",
   "name": "python",
   "nbconvert_exporter": "python",
   "pygments_lexer": "ipython3",
   "version": "3.7.6"
  }
 },
 "nbformat": 4,
 "nbformat_minor": 4
}
